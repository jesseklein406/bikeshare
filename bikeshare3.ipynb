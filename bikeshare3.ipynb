{
 "cells": [
  {
   "cell_type": "markdown",
   "metadata": {},
   "source": [
    "###Q1. To start with, we'll need to compute the number of rentals per station per day. Use pandas to do that."
   ]
  },
  {
   "cell_type": "code",
   "execution_count": 51,
   "metadata": {
    "collapsed": false
   },
   "outputs": [],
   "source": [
    "from pandas import DataFrame, Series\n",
    "import pandas as pd\n",
    "import numpy as np\n",
    "import matplotlib.pyplot as plt\n",
    "from sklearn.cross_validation import train_test_split\n",
    "from sklearn import linear_model\n",
    "from sklearn.linear_model import Lasso\n",
    "import seaborn as sns"
   ]
  },
  {
   "cell_type": "code",
   "execution_count": 52,
   "metadata": {
    "collapsed": true
   },
   "outputs": [],
   "source": [
    "%matplotlib inline\n",
    "sns.set(color_codes=True)\n",
    "plt.rcParams['figure.figsize'] = (14.0, 6.0)"
   ]
  },
  {
   "cell_type": "code",
   "execution_count": 53,
   "metadata": {
    "collapsed": true
   },
   "outputs": [],
   "source": [
    "usage = pd.read_table('data/usage_2012.tsv')"
   ]
  },
  {
   "cell_type": "code",
   "execution_count": 54,
   "metadata": {
    "collapsed": true
   },
   "outputs": [],
   "source": [
    "stations = pd.read_table('data/stations.tsv')"
   ]
  },
  {
   "cell_type": "code",
   "execution_count": 55,
   "metadata": {
    "collapsed": true
   },
   "outputs": [],
   "source": [
    "s = stations[['station']]"
   ]
  },
  {
   "cell_type": "code",
   "execution_count": 56,
   "metadata": {
    "collapsed": true
   },
   "outputs": [],
   "source": [
    "u = pd.concat([usage['station_start']], axis=1, keys=['station'])"
   ]
  },
  {
   "cell_type": "code",
   "execution_count": 57,
   "metadata": {
    "collapsed": false
   },
   "outputs": [],
   "source": [
    "counts = u['station'].value_counts()"
   ]
  },
  {
   "cell_type": "code",
   "execution_count": 58,
   "metadata": {
    "collapsed": true
   },
   "outputs": [],
   "source": [
    "c = DataFrame(counts.index, columns=['station'])"
   ]
  },
  {
   "cell_type": "code",
   "execution_count": 59,
   "metadata": {
    "collapsed": true
   },
   "outputs": [],
   "source": [
    "c['counts'] = counts.values"
   ]
  },
  {
   "cell_type": "code",
   "execution_count": 60,
   "metadata": {
    "collapsed": true
   },
   "outputs": [],
   "source": [
    "c['counts'] = c['counts'].apply(lambda x: x / 366)"
   ]
  },
  {
   "cell_type": "code",
   "execution_count": 61,
   "metadata": {
    "collapsed": false
   },
   "outputs": [],
   "source": [
    "m = pd.merge(s, c, on='station')"
   ]
  },
  {
   "cell_type": "code",
   "execution_count": 62,
   "metadata": {
    "collapsed": false
   },
   "outputs": [
    {
     "data": {
      "text/html": [
       "<div>\n",
       "<table border=\"1\" class=\"dataframe\">\n",
       "  <thead>\n",
       "    <tr style=\"text-align: right;\">\n",
       "      <th></th>\n",
       "      <th>station</th>\n",
       "      <th>counts</th>\n",
       "    </tr>\n",
       "  </thead>\n",
       "  <tbody>\n",
       "    <tr>\n",
       "      <th>0</th>\n",
       "      <td>20th &amp; Bell St</td>\n",
       "      <td>4</td>\n",
       "    </tr>\n",
       "    <tr>\n",
       "      <th>1</th>\n",
       "      <td>20th &amp; Crystal Dr</td>\n",
       "      <td>13</td>\n",
       "    </tr>\n",
       "    <tr>\n",
       "      <th>2</th>\n",
       "      <td>15th &amp; Crystal Dr</td>\n",
       "      <td>8</td>\n",
       "    </tr>\n",
       "    <tr>\n",
       "      <th>3</th>\n",
       "      <td>Aurora Hills Community Ctr/18th &amp; Hayes St</td>\n",
       "      <td>5</td>\n",
       "    </tr>\n",
       "    <tr>\n",
       "      <th>4</th>\n",
       "      <td>Pentagon City Metro / 12th &amp; S Hayes St</td>\n",
       "      <td>11</td>\n",
       "    </tr>\n",
       "  </tbody>\n",
       "</table>\n",
       "</div>"
      ],
      "text/plain": [
       "                                      station  counts\n",
       "0                              20th & Bell St       4\n",
       "1                           20th & Crystal Dr      13\n",
       "2                           15th & Crystal Dr       8\n",
       "3  Aurora Hills Community Ctr/18th & Hayes St       5\n",
       "4     Pentagon City Metro / 12th & S Hayes St      11"
      ]
     },
     "execution_count": 62,
     "metadata": {},
     "output_type": "execute_result"
    }
   ],
   "source": [
    "m.head()"
   ]
  },
  {
   "cell_type": "markdown",
   "metadata": {},
   "source": [
    "###Q2.\n",
    "###a. Our stations data has a huge number of quantitative attributes: fast_food, parking, restaurant, etc... Some of them are encoded as 0 or 1 (for absence or presence), others represent counts. To start with, run a simple linear regression where the input (x) variables are all the various station attributes and the output (y) variable is the average number of rentals per day."
   ]
  },
  {
   "cell_type": "code",
   "execution_count": 63,
   "metadata": {
    "collapsed": false
   },
   "outputs": [],
   "source": [
    "stations_data = stations.merge(m, on='station')"
   ]
  },
  {
   "cell_type": "code",
   "execution_count": 64,
   "metadata": {
    "collapsed": false
   },
   "outputs": [],
   "source": [
    "df = DataFrame(stations_data.index, columns=['station'])\n",
    "df['avg_rentals'] = m[['counts']]\n",
    "df['station'] = m[['station']]\n",
    "stations_vals = pd.merge(left=df, right=stations, on='station')"
   ]
  },
  {
   "cell_type": "code",
   "execution_count": 65,
   "metadata": {
    "collapsed": false
   },
   "outputs": [
    {
     "data": {
      "text/html": [
       "<div>\n",
       "<table border=\"1\" class=\"dataframe\">\n",
       "  <thead>\n",
       "    <tr style=\"text-align: right;\">\n",
       "      <th></th>\n",
       "      <th>station</th>\n",
       "      <th>avg_rentals</th>\n",
       "      <th>id</th>\n",
       "      <th>terminal_name</th>\n",
       "      <th>lat</th>\n",
       "      <th>long</th>\n",
       "      <th>no_bikes</th>\n",
       "      <th>no_empty_docks</th>\n",
       "      <th>fast_food</th>\n",
       "      <th>parking</th>\n",
       "      <th>...</th>\n",
       "      <th>museum</th>\n",
       "      <th>sculpture</th>\n",
       "      <th>hostel</th>\n",
       "      <th>picnic_site</th>\n",
       "      <th>tour_guide</th>\n",
       "      <th>attraction</th>\n",
       "      <th>landmark</th>\n",
       "      <th>motel</th>\n",
       "      <th>guest_house</th>\n",
       "      <th>gallery</th>\n",
       "    </tr>\n",
       "  </thead>\n",
       "  <tbody>\n",
       "    <tr>\n",
       "      <th>0</th>\n",
       "      <td>20th &amp; Bell St</td>\n",
       "      <td>4</td>\n",
       "      <td>1</td>\n",
       "      <td>31000</td>\n",
       "      <td>38.856100</td>\n",
       "      <td>-77.051200</td>\n",
       "      <td>7</td>\n",
       "      <td>4</td>\n",
       "      <td>0</td>\n",
       "      <td>0</td>\n",
       "      <td>...</td>\n",
       "      <td>0</td>\n",
       "      <td>0</td>\n",
       "      <td>0</td>\n",
       "      <td>0</td>\n",
       "      <td>0</td>\n",
       "      <td>0</td>\n",
       "      <td>0</td>\n",
       "      <td>0</td>\n",
       "      <td>0</td>\n",
       "      <td>0</td>\n",
       "    </tr>\n",
       "    <tr>\n",
       "      <th>1</th>\n",
       "      <td>20th &amp; Crystal Dr</td>\n",
       "      <td>13</td>\n",
       "      <td>3</td>\n",
       "      <td>31002</td>\n",
       "      <td>38.856400</td>\n",
       "      <td>-77.049200</td>\n",
       "      <td>9</td>\n",
       "      <td>6</td>\n",
       "      <td>0</td>\n",
       "      <td>0</td>\n",
       "      <td>...</td>\n",
       "      <td>0</td>\n",
       "      <td>0</td>\n",
       "      <td>0</td>\n",
       "      <td>0</td>\n",
       "      <td>0</td>\n",
       "      <td>0</td>\n",
       "      <td>0</td>\n",
       "      <td>0</td>\n",
       "      <td>0</td>\n",
       "      <td>0</td>\n",
       "    </tr>\n",
       "    <tr>\n",
       "      <th>2</th>\n",
       "      <td>15th &amp; Crystal Dr</td>\n",
       "      <td>8</td>\n",
       "      <td>4</td>\n",
       "      <td>31003</td>\n",
       "      <td>38.860170</td>\n",
       "      <td>-77.049593</td>\n",
       "      <td>4</td>\n",
       "      <td>6</td>\n",
       "      <td>0</td>\n",
       "      <td>0</td>\n",
       "      <td>...</td>\n",
       "      <td>0</td>\n",
       "      <td>0</td>\n",
       "      <td>0</td>\n",
       "      <td>0</td>\n",
       "      <td>0</td>\n",
       "      <td>0</td>\n",
       "      <td>0</td>\n",
       "      <td>0</td>\n",
       "      <td>0</td>\n",
       "      <td>0</td>\n",
       "    </tr>\n",
       "    <tr>\n",
       "      <th>3</th>\n",
       "      <td>Aurora Hills Community Ctr/18th &amp; Hayes St</td>\n",
       "      <td>5</td>\n",
       "      <td>5</td>\n",
       "      <td>31004</td>\n",
       "      <td>38.857866</td>\n",
       "      <td>-77.059490</td>\n",
       "      <td>5</td>\n",
       "      <td>5</td>\n",
       "      <td>0</td>\n",
       "      <td>0</td>\n",
       "      <td>...</td>\n",
       "      <td>0</td>\n",
       "      <td>0</td>\n",
       "      <td>0</td>\n",
       "      <td>0</td>\n",
       "      <td>0</td>\n",
       "      <td>0</td>\n",
       "      <td>0</td>\n",
       "      <td>0</td>\n",
       "      <td>0</td>\n",
       "      <td>0</td>\n",
       "    </tr>\n",
       "    <tr>\n",
       "      <th>4</th>\n",
       "      <td>Pentagon City Metro / 12th &amp; S Hayes St</td>\n",
       "      <td>11</td>\n",
       "      <td>6</td>\n",
       "      <td>31005</td>\n",
       "      <td>38.862303</td>\n",
       "      <td>-77.059936</td>\n",
       "      <td>8</td>\n",
       "      <td>11</td>\n",
       "      <td>0</td>\n",
       "      <td>0</td>\n",
       "      <td>...</td>\n",
       "      <td>0</td>\n",
       "      <td>0</td>\n",
       "      <td>0</td>\n",
       "      <td>0</td>\n",
       "      <td>0</td>\n",
       "      <td>0</td>\n",
       "      <td>0</td>\n",
       "      <td>0</td>\n",
       "      <td>0</td>\n",
       "      <td>0</td>\n",
       "    </tr>\n",
       "  </tbody>\n",
       "</table>\n",
       "<p>5 rows × 137 columns</p>\n",
       "</div>"
      ],
      "text/plain": [
       "                                      station  avg_rentals  id  terminal_name  \\\n",
       "0                              20th & Bell St            4   1          31000   \n",
       "1                           20th & Crystal Dr           13   3          31002   \n",
       "2                           15th & Crystal Dr            8   4          31003   \n",
       "3  Aurora Hills Community Ctr/18th & Hayes St            5   5          31004   \n",
       "4     Pentagon City Metro / 12th & S Hayes St           11   6          31005   \n",
       "\n",
       "         lat       long  no_bikes  no_empty_docks  fast_food  parking  \\\n",
       "0  38.856100 -77.051200         7               4          0        0   \n",
       "1  38.856400 -77.049200         9               6          0        0   \n",
       "2  38.860170 -77.049593         4               6          0        0   \n",
       "3  38.857866 -77.059490         5               5          0        0   \n",
       "4  38.862303 -77.059936         8              11          0        0   \n",
       "\n",
       "    ...     museum  sculpture  hostel  picnic_site  tour_guide  attraction  \\\n",
       "0   ...          0          0       0            0           0           0   \n",
       "1   ...          0          0       0            0           0           0   \n",
       "2   ...          0          0       0            0           0           0   \n",
       "3   ...          0          0       0            0           0           0   \n",
       "4   ...          0          0       0            0           0           0   \n",
       "\n",
       "   landmark  motel  guest_house  gallery  \n",
       "0         0      0            0        0  \n",
       "1         0      0            0        0  \n",
       "2         0      0            0        0  \n",
       "3         0      0            0        0  \n",
       "4         0      0            0        0  \n",
       "\n",
       "[5 rows x 137 columns]"
      ]
     },
     "execution_count": 65,
     "metadata": {},
     "output_type": "execute_result"
    }
   ],
   "source": [
    "stations_vals.head()"
   ]
  },
  {
   "cell_type": "code",
   "execution_count": 66,
   "metadata": {
    "collapsed": false
   },
   "outputs": [],
   "source": [
    "x = stations_vals[list(stations_vals.columns.values[8:])]\n",
    "y = stations_vals[list(stations_vals.columns.values[1:2])]"
   ]
  },
  {
   "cell_type": "code",
   "execution_count": 67,
   "metadata": {
    "collapsed": false
   },
   "outputs": [
    {
     "data": {
      "text/plain": [
       "LinearRegression(copy_X=True, fit_intercept=True, n_jobs=1, normalize=False)"
      ]
     },
     "execution_count": 67,
     "metadata": {},
     "output_type": "execute_result"
    }
   ],
   "source": [
    "lin_regr = linear_model.LinearRegression()\n",
    "lin_regr.fit(x, y)"
   ]
  },
  {
   "cell_type": "markdown",
   "metadata": {},
   "source": [
    "###b. Plot the predicted values (model.predict(x)) against the actual values and see how they compare."
   ]
  },
  {
   "cell_type": "code",
   "execution_count": 68,
   "metadata": {
    "collapsed": false
   },
   "outputs": [
    {
     "data": {
      "image/png": "[encoded data removed]",
      "text/plain": [
       "<matplotlib.figure.Figure at 0x123fea290>"
      ]
     },
     "metadata": {},
     "output_type": "display_data"
    }
   ],
   "source": [
    "plt.scatter(lin_regr.predict(x), y, s=100)\n",
    "plt.xlabel('predicted value')\n",
    "plt.ylabel('actual value')\n",
    "plt.show()"
   ]
  },
  {
   "cell_type": "markdown",
   "metadata": {},
   "source": [
    "####Everything here tends to fit very well in a 1 to 1 relationship, but this not an accurate predictive model because we have not trained the regression model."
   ]
  },
  {
   "cell_type": "markdown",
   "metadata": {},
   "source": [
    "###c. In this case, there are 129 input variables and only 185 rows which means we're very likely to overfit. Look at the model coefficients and see if anything jumps out as odd."
   ]
  },
  {
   "cell_type": "code",
   "execution_count": 69,
   "metadata": {
    "collapsed": false,
    "scrolled": true
   },
   "outputs": [
    {
     "data": {
      "text/plain": [
       "array([[  2.30000000e+00,  -3.00000000e-01,   1.00000000e-01,\n",
       "         -6.23000000e+01,   2.00000000e+00,  -4.20000000e+00,\n",
       "          5.60000000e+00,   1.80000000e+00,  -4.00000000e-01,\n",
       "          0.00000000e+00,   2.40000000e+00,   6.89000000e+01,\n",
       "          4.50000000e+00,  -0.00000000e+00,  -0.00000000e+00,\n",
       "          5.20000000e+00,  -0.00000000e+00,   4.40000000e+00,\n",
       "          9.30000000e+00,  -3.00000000e+00,   3.20000000e+00,\n",
       "         -3.75000000e+01,   2.79000000e+01,  -3.85000000e+01,\n",
       "         -1.59000000e+01,   2.17000000e+01,   1.50000000e+00,\n",
       "          3.00000000e+00,  -4.30000000e+00,   8.90000000e+00,\n",
       "          2.17000000e+01,  -3.00000000e-01,   3.40000000e+00,\n",
       "          1.28000000e+01,   4.80000000e+00,  -2.00000000e+00,\n",
       "         -3.45000000e+01,  -1.62000000e+01,   5.30000000e+00,\n",
       "          5.20000000e+00,   1.13000000e+01,  -6.00000000e+00,\n",
       "          1.47300000e+02,  -5.50000000e+00,  -1.29000000e+01,\n",
       "          1.82600000e+02,  -1.00000000e-01,   4.00000000e-01,\n",
       "         -6.90000000e+00,  -8.80000000e+00,   7.68000000e+01,\n",
       "          5.90000000e+00,  -6.80000000e+00,  -1.82000000e+01,\n",
       "          3.30000000e+01,   9.80000000e+00,   2.40000000e+01,\n",
       "          5.47000000e+01,   1.51000000e+01,   5.50000000e+00,\n",
       "          1.20000000e+01,  -1.81000000e+01,  -2.90000000e+00,\n",
       "         -2.49000000e+01,  -2.65000000e+01,   1.79000000e+01,\n",
       "         -2.56000000e+01,  -1.64000000e+01,  -1.66000000e+01,\n",
       "         -2.05000000e+01,   4.55000000e+01,  -8.52000000e+01,\n",
       "         -1.96000000e+01,   1.24000000e+01,   1.50000000e+00,\n",
       "          3.41000000e+01,   3.41000000e+01,  -1.44000000e+01,\n",
       "          3.72000000e+01,  -3.80000000e+00,  -3.80000000e+00,\n",
       "          1.00400000e+02,  -0.00000000e+00,  -8.10000000e+00,\n",
       "          1.18000000e+01,   0.00000000e+00,   0.00000000e+00,\n",
       "         -1.11000000e+01,   0.00000000e+00,   0.00000000e+00,\n",
       "          2.89000000e+01,   0.00000000e+00,   1.58000000e+01,\n",
       "         -4.92000000e+01,  -0.00000000e+00,   0.00000000e+00,\n",
       "         -0.00000000e+00,  -0.00000000e+00,   0.00000000e+00,\n",
       "         -0.00000000e+00,   0.00000000e+00,  -0.00000000e+00,\n",
       "          0.00000000e+00,   4.00000000e-01,  -1.10000000e+00,\n",
       "         -6.00000000e-01,   4.05000000e+01,   0.00000000e+00,\n",
       "         -4.00000000e-01,  -4.80000000e+00,   3.26000000e+01,\n",
       "          1.24000000e+01,  -3.49000000e+01,  -5.40000000e+00,\n",
       "          1.72000000e+01,   0.00000000e+00,   3.80000000e+00,\n",
       "         -1.00000000e+00,  -1.90000000e+00,  -6.20000000e+00,\n",
       "         -1.10000000e+00,  -9.48000000e+01,   1.70000000e+00,\n",
       "         -2.22000000e+01,  -2.20000000e+00,  -1.85000000e+01,\n",
       "         -2.10000000e+01,  -3.37000000e+01,   7.20000000e+00]])"
      ]
     },
     "execution_count": 69,
     "metadata": {},
     "output_type": "execute_result"
    }
   ],
   "source": [
    "np.round(lin_regr.coef_, 1)"
   ]
  },
  {
   "cell_type": "markdown",
   "metadata": {},
   "source": [
    "####There are few coefficients that are much larger than the others."
   ]
  },
  {
   "cell_type": "markdown",
   "metadata": {},
   "source": [
    "###d. Go back and split the data into a training set and a test set. Train the model on the training set and evaluate it on the test set. How does it do?"
   ]
  },
  {
   "cell_type": "code",
   "execution_count": 70,
   "metadata": {
    "collapsed": true
   },
   "outputs": [],
   "source": [
    "x_train, x_test, y_train, y_test = train_test_split(x, y, test_size=0.33, random_state=42)"
   ]
  },
  {
   "cell_type": "code",
   "execution_count": 71,
   "metadata": {
    "collapsed": false
   },
   "outputs": [
    {
     "data": {
      "text/plain": [
       "LinearRegression(copy_X=True, fit_intercept=True, n_jobs=1, normalize=False)"
      ]
     },
     "execution_count": 71,
     "metadata": {},
     "output_type": "execute_result"
    }
   ],
   "source": [
    "lin_regr = linear_model.LinearRegression()\n",
    "lin_regr.fit(x_train, y_train)"
   ]
  },
  {
   "cell_type": "code",
   "execution_count": 72,
   "metadata": {
    "collapsed": false
   },
   "outputs": [
    {
     "data": {
      "image/png": "[encoded data removed]",
      "text/plain": [
       "<matplotlib.figure.Figure at 0x12352fbd0>"
      ]
     },
     "metadata": {},
     "output_type": "display_data"
    }
   ],
   "source": [
    "plt.scatter(lin_regr.predict(x_test), y_test, s=100)\n",
    "plt.xlabel('predicted value')\n",
    "plt.ylabel('actual value')\n",
    "plt.show()"
   ]
  },
  {
   "cell_type": "markdown",
   "metadata": {},
   "source": [
    "####This does not perform very well. There a handful outliers scattered around the trending data points, some of which are showing negative predictions."
   ]
  },
  {
   "cell_type": "markdown",
   "metadata": {},
   "source": [
    "###Q1.\n",
    "###a. Since we have so many variables, this is a good candidate for regularization. In particular, since we'd like to eliminate a lot of them, lasso seems like a good candidate. Build a lasso model on your training data for various values of alpha. Which variables survive?"
   ]
  },
  {
   "cell_type": "code",
   "execution_count": 73,
   "metadata": {
    "collapsed": false
   },
   "outputs": [
    {
     "data": {
      "text/plain": [
       "array([  2.1,  -1.5,   0.7,   0. ,  -4.3,  -0.2,   8.7,   0. ,  -0.1,\n",
       "         0. ,  -0.3,   0. ,  -1. ,   0. ,   0. ,   0. ,   0. ,  -2. ,\n",
       "         0. ,  -0.4,  -0.2,   2.6,   3.8,  -6.7,  -0. ,  -0. ,  -3.7,\n",
       "         3. ,   8.7,   0.5,  -0. ,  -0. ,   0.6,   5.6,   3.2,   0. ,\n",
       "         0. , -12.1,  -0. ,  -0. ,  -3. ,   3.3,  59.9,   0. ,  -2.5,\n",
       "        17.7,   5.5,  -0. ,  -0. ,  -0. ,  -0. ,  -0. ,  -0. ,   0. ,\n",
       "         0. ,   6.2,  18.5,   0. ,   0. ,   0. ,   0.1,   0. ,   0. ,\n",
       "         0. ,  -0. ,   0. ,   0. ,   0. ,   0. ,  -0. ,   0. ,  -0. ,\n",
       "        -1.9,  -0. ,  -2.5,  -0. ,  -0. ,  -0. ,  -0. ,   0. ,   0. ,\n",
       "         0. ,   0. ,   0. ,   0. ,  -0. ,  -0. ,  -0. ,   0. ,   0. ,\n",
       "         0. ,   0. ,   0. ,   0. ,   0. ,   0. ,   0. ,   0. ,   0. ,\n",
       "         0. ,   0. ,   0. ,  -0.2,   0.4,  -1.5,  -0. ,   9.5,   0. ,\n",
       "        -1.1,  -3. ,   0. ,   0. ,  -6.1,  -0. ,  -0. ,   0. ,  13.1,\n",
       "        -0.7,  -0. ,  -2.7,   0. ,   0. ,   0. ,   0. ,  -0. ,  -1. ,\n",
       "        -0. ,  -0. ,   0. ])"
      ]
     },
     "execution_count": 73,
     "metadata": {},
     "output_type": "execute_result"
    }
   ],
   "source": [
    "lasso_model = Lasso(alpha=0.15)\n",
    "lasso_model.fit(x_train, y_train)\n",
    "np.round(lasso_model.coef_, 1)"
   ]
  },
  {
   "cell_type": "code",
   "execution_count": 74,
   "metadata": {
    "collapsed": false
   },
   "outputs": [
    {
     "data": {
      "text/plain": [
       "array([ 0. ,  0. ,  0. ,  0. ,  0. ,  0. ,  0. ,  0. ,  0. ,  0. ,  0. ,\n",
       "        0. , -0. ,  0. ,  0. ,  0. ,  0. , -0. ,  0. ,  0. ,  0. ,  0. ,\n",
       "        0. ,  0. , -0. ,  0. , -0. ,  0. ,  0. ,  0. ,  0. , -0. ,  0. ,\n",
       "        0. ,  0. , -0. ,  0. ,  0. , -0. , -0. ,  0. ,  0. ,  0. ,  0. ,\n",
       "       -0. ,  0. ,  0. , -0. , -0. , -0. ,  0. ,  0. ,  0. ,  0. ,  0. ,\n",
       "        0. ,  0. ,  0. ,  0. ,  0. , -0. , -0. ,  0. ,  0. ,  0. ,  0. ,\n",
       "        0. ,  0. , -0. , -0. ,  0. , -0. , -0. ,  0. , -0. , -0. , -0. ,\n",
       "       -0. ,  0. , -0. , -0. ,  0. ,  0. , -0. , -0. , -0. , -0. , -0. ,\n",
       "        0. ,  0. , -0. ,  0. , -0. ,  0. ,  0. ,  0. ,  0. ,  0. ,  0. ,\n",
       "        0. ,  0. ,  0. ,  0. ,  0.3, -0. ,  0. ,  0. ,  0. , -0. , -0. ,\n",
       "        0. ,  0. , -0. , -0. , -0. ,  0. ,  0. ,  0. , -0. ,  0. ,  0. ,\n",
       "        0. ,  0. ,  0. , -0. , -0. , -0. , -0. ,  0. ])"
      ]
     },
     "execution_count": 74,
     "metadata": {},
     "output_type": "execute_result"
    }
   ],
   "source": [
    "lasso_model = Lasso(alpha=200)\n",
    "lasso_model.fit(x_train, y_train)\n",
    "np.round(lasso_model.coef_, 1)"
   ]
  },
  {
   "cell_type": "markdown",
   "metadata": {},
   "source": [
    "####This case shows that 104th input, \"crossings\", is the last piece of data to approach zero as alpha is increased."
   ]
  },
  {
   "cell_type": "code",
   "execution_count": 75,
   "metadata": {
    "collapsed": false
   },
   "outputs": [
    {
     "data": {
      "text/plain": [
       "array([ 0. , -0. ,  1.4,  0. , -0. , -0. ,  0. ,  0. ,  0. ,  0. ,  0. ,\n",
       "        0. , -0. ,  0. ,  0. ,  0. ,  0. , -0. ,  0. , -0. ,  0. ,  0. ,\n",
       "        0. , -0. , -0. , -0. , -0. ,  0. ,  0. ,  0. , -0. , -0. ,  0. ,\n",
       "        0. ,  0. , -0. ,  0. , -0. , -0. , -0. , -0. ,  0. ,  0. , -0. ,\n",
       "       -0. ,  0. ,  0. , -0. , -0. , -0. , -0. , -0. , -0. ,  0. ,  0. ,\n",
       "        0. ,  0. ,  0. ,  0. ,  0. ,  0. , -0. ,  0. ,  0. ,  0. ,  0. ,\n",
       "        0. ,  0. , -0. , -0. , -0. , -0. ,  0. ,  0. , -0. , -0. , -0. ,\n",
       "       -0. , -0. , -0. , -0. ,  0. ,  0. ,  0. , -0. , -0. , -0. , -0. ,\n",
       "        0. ,  0. ,  0. ,  0. , -0. ,  0. ,  0. ,  0. ,  0. ,  0. ,  0. ,\n",
       "        0. ,  0. ,  0. ,  0.1,  0.4, -0. ,  0. ,  0. ,  0. , -0.3, -0. ,\n",
       "        0. ,  0. , -0. , -0. , -0. ,  0. ,  3.1, -0. , -0. ,  0. ,  0. ,\n",
       "       -0. ,  0. ,  0. , -0. , -0. , -0. , -0. , -0. ])"
      ]
     },
     "execution_count": 75,
     "metadata": {},
     "output_type": "execute_result"
    }
   ],
   "source": [
    "lasso_model = Lasso(alpha=10)\n",
    "lasso_model.fit(x_train, y_train)\n",
    "np.round(lasso_model.coef_, 1)"
   ]
  },
  {
   "cell_type": "markdown",
   "metadata": {},
   "source": [
    "####This case shows a handful of coefficients remaining which can serve to test the test data set."
   ]
  },
  {
   "cell_type": "markdown",
   "metadata": {},
   "source": [
    "###b. How does this model perform on the test set?"
   ]
  },
  {
   "cell_type": "code",
   "execution_count": 76,
   "metadata": {
    "collapsed": false
   },
   "outputs": [
    {
     "data": {
      "image/png": "[encoded data removed]",
      "text/plain": [
       "<matplotlib.figure.Figure at 0x114dc81d0>"
      ]
     },
     "metadata": {},
     "output_type": "display_data"
    }
   ],
   "source": [
    "plt.scatter(lasso_model.predict(x_test), y_test, s=100)\n",
    "plt.xlabel('predicted value')\n",
    "plt.ylabel('actual value')\n",
    "plt.show()"
   ]
  },
  {
   "cell_type": "markdown",
   "metadata": {},
   "source": [
    "####This model shows a decent trend of data clustering around the one to one correlation with a handful of outliers."
   ]
  },
  {
   "cell_type": "markdown",
   "metadata": {},
   "source": [
    "###Q1. No matter how high I make alpha, the coefficient on crossing (\"number of nearby crosswalks\") never goes away. Try a simple linear regression on just that variable."
   ]
  },
  {
   "cell_type": "code",
   "execution_count": 77,
   "metadata": {
    "collapsed": false
   },
   "outputs": [
    {
     "data": {
      "text/plain": [
       "LinearRegression(copy_X=True, fit_intercept=True, n_jobs=1, normalize=False)"
      ]
     },
     "execution_count": 77,
     "metadata": {},
     "output_type": "execute_result"
    }
   ],
   "source": [
    "x = stations_vals[list(stations_vals.columns.values[111:112])]\n",
    "y = stations_vals[list(stations_vals.columns.values[1:2])]\n",
    "lin_regr = linear_model.LinearRegression()\n",
    "lin_regr.fit(x, y)"
   ]
  },
  {
   "cell_type": "code",
   "execution_count": 78,
   "metadata": {
    "collapsed": false
   },
   "outputs": [
    {
     "data": {
      "image/png": "[encoded data removed]",
      "text/plain": [
       "<matplotlib.figure.Figure at 0x135cf9050>"
      ]
     },
     "metadata": {},
     "output_type": "display_data"
    }
   ],
   "source": [
    "plt.scatter(lin_regr.predict(x), y, s=100)\n",
    "plt.xlabel('predicted value')\n",
    "plt.ylabel('actual value')\n",
    "plt.show()"
   ]
  },
  {
   "cell_type": "markdown",
   "metadata": {},
   "source": [
    "####This case is showing that a majority of the data is focused together in a small range but there are still a large number of points that deviate and show no sign of a trend or correlation."
   ]
  },
  {
   "cell_type": "code",
   "execution_count": null,
   "metadata": {
    "collapsed": true
   },
   "outputs": [],
   "source": []
  }
 ],
 "metadata": {
  "kernelspec": {
   "display_name": "Python 2",
   "language": "python",
   "name": "python2"
  },
  "language_info": {
   "codemirror_mode": {
    "name": "ipython",
    "version": 2
   },
   "file_extension": ".py",
   "mimetype": "text/x-python",
   "name": "python",
   "nbconvert_exporter": "python",
   "pygments_lexer": "ipython2",
   "version": "2.7.6"
  }
 },
 "nbformat": 4,
 "nbformat_minor": 0
}
