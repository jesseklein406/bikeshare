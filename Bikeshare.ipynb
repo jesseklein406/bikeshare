{
 "cells": [
  {
   "cell_type": "markdown",
   "metadata": {},
   "source": [
    "## Question 1\n",
    "Compute the average temperature by season ('season_desc'). (The temperatures are numbers between 0 and 1, but don't worry about that. Let's say that's the Shellman temperature scale.)\n",
    "\n",
    "I get\n",
    "```\n",
    "season_desc\n",
    "Fall           0.711445\n",
    "Spring         0.321700\n",
    "Summer         0.554557\n",
    "Winter         0.419368\n",
    "```\n",
    "Which clearly looks wrong. Figure out what's wrong with the original data and fix it."
   ]
  },
  {
   "cell_type": "code",
   "execution_count": 1,
   "metadata": {
    "collapsed": true
   },
   "outputs": [],
   "source": [
    "from pandas import DataFrame, Series"
   ]
  },
  {
   "cell_type": "code",
   "execution_count": 2,
   "metadata": {
    "collapsed": true
   },
   "outputs": [],
   "source": [
    "import pandas as pd"
   ]
  },
  {
   "cell_type": "code",
   "execution_count": 3,
   "metadata": {
    "collapsed": true
   },
   "outputs": [],
   "source": [
    "import numpy as np"
   ]
  },
  {
   "cell_type": "code",
   "execution_count": 4,
   "metadata": {
    "collapsed": true
   },
   "outputs": [],
   "source": [
    "weather_data = pd.read_table('data/daily_weather.tsv')"
   ]
  },
  {
   "cell_type": "code",
   "execution_count": 5,
   "metadata": {
    "collapsed": false
   },
   "outputs": [],
   "source": [
    "season_mapping = {'Spring': 'Winter', 'Winter': 'Fall', 'Fall': 'Summer', 'Summer': 'Spring'}"
   ]
  },
  {
   "cell_type": "code",
   "execution_count": 6,
   "metadata": {
    "collapsed": true
   },
   "outputs": [],
   "source": [
    "def fix_seasons(x):\n",
    "    return season_mapping[x]"
   ]
  },
  {
   "cell_type": "code",
   "execution_count": 7,
   "metadata": {
    "collapsed": true
   },
   "outputs": [],
   "source": [
    "weather_data['season_desc'] = weather_data['season_desc'].apply(fix_seasons)"
   ]
  },
  {
   "cell_type": "code",
   "execution_count": 8,
   "metadata": {
    "collapsed": false
   },
   "outputs": [
    {
     "data": {
      "text/plain": [
       "season_desc\n",
       "Fall      0.419368\n",
       "Spring    0.554557\n",
       "Summer    0.711445\n",
       "Winter    0.321700\n",
       "Name: temp, dtype: float64"
      ]
     },
     "execution_count": 8,
     "metadata": {},
     "output_type": "execute_result"
    }
   ],
   "source": [
    "weather_data.pivot_table(index='season_desc', values='temp', aggfunc=np.mean)"
   ]
  },
  {
   "cell_type": "markdown",
   "metadata": {},
   "source": [
    "In this case, a pivot table is not really required, so a simple use of `groupby` and `mean()` will do the job."
   ]
  },
  {
   "cell_type": "code",
   "execution_count": 9,
   "metadata": {
    "collapsed": false
   },
   "outputs": [
    {
     "data": {
      "text/plain": [
       "season_desc\n",
       "Fall      0.419368\n",
       "Spring    0.554557\n",
       "Summer    0.711445\n",
       "Winter    0.321700\n",
       "Name: temp, dtype: float64"
      ]
     },
     "execution_count": 9,
     "metadata": {},
     "output_type": "execute_result"
    }
   ],
   "source": [
    "weather_data.groupby('season_desc')['temp'].mean()"
   ]
  },
  {
   "cell_type": "markdown",
   "metadata": {},
   "source": [
    "##Question 2\n",
    "Various of the columns represent dates or datetimes, but out of the box pd.read_table won't treat them correctly. This makes it hard to (for example) compute the number of rentals by month. Fix the dates and compute the number of rentals by month."
   ]
  },
  {
   "cell_type": "code",
   "execution_count": 13,
   "metadata": {
    "collapsed": false
   },
   "outputs": [],
   "source": [
    "weather_data['Month'] = pd.DatetimeIndex(weather_data.date).month"
   ]
  },
  {
   "cell_type": "code",
   "execution_count": 14,
   "metadata": {
    "collapsed": false
   },
   "outputs": [
    {
     "data": {
      "text/plain": [
       "Month\n",
       "1      96744\n",
       "2     103137\n",
       "3     164875\n",
       "4     174224\n",
       "5     195865\n",
       "6     202830\n",
       "7     203607\n",
       "8     214503\n",
       "9     218573\n",
       "10    198841\n",
       "11    152664\n",
       "12    123713\n",
       "Name: total_riders, dtype: int64"
      ]
     },
     "execution_count": 14,
     "metadata": {},
     "output_type": "execute_result"
    }
   ],
   "source": [
    "weather_data.groupby('Month')['total_riders'].sum()"
   ]
  },
  {
   "cell_type": "markdown",
   "metadata": {},
   "source": [
    "##Question 3\n",
    "\n",
    "Investigate how the number of rentals varies with temperature. Is this trend constant across seasons? Across months?\n"
   ]
  },
  {
   "cell_type": "code",
   "execution_count": 16,
   "metadata": {
    "collapsed": false
   },
   "outputs": [
    {
     "data": {
      "text/html": [
       "<div>\n",
       "<table border=\"1\" class=\"dataframe\">\n",
       "  <thead>\n",
       "    <tr style=\"text-align: right;\">\n",
       "      <th></th>\n",
       "      <th>temp</th>\n",
       "      <th>total_riders</th>\n",
       "    </tr>\n",
       "  </thead>\n",
       "  <tbody>\n",
       "    <tr>\n",
       "      <th>temp</th>\n",
       "      <td>1.000000</td>\n",
       "      <td>0.713793</td>\n",
       "    </tr>\n",
       "    <tr>\n",
       "      <th>total_riders</th>\n",
       "      <td>0.713793</td>\n",
       "      <td>1.000000</td>\n",
       "    </tr>\n",
       "  </tbody>\n",
       "</table>\n",
       "</div>"
      ],
      "text/plain": [
       "                  temp  total_riders\n",
       "temp          1.000000      0.713793\n",
       "total_riders  0.713793      1.000000"
      ]
     },
     "execution_count": 16,
     "metadata": {},
     "output_type": "execute_result"
    }
   ],
   "source": [
    "pd.concat([weather_data['temp'], weather_data['total_riders']], axis=1).corr()"
   ]
  },
  {
   "cell_type": "markdown",
   "metadata": {},
   "source": [
    "Check how correlation between temp and total riders varies across months."
   ]
  },
  {
   "cell_type": "code",
   "execution_count": 44,
   "metadata": {
    "collapsed": false
   },
   "outputs": [
    {
     "data": {
      "text/html": [
       "<div>\n",
       "<table border=\"1\" class=\"dataframe\">\n",
       "  <thead>\n",
       "    <tr style=\"text-align: right;\">\n",
       "      <th></th>\n",
       "      <th></th>\n",
       "      <th>temp</th>\n",
       "      <th>total_riders</th>\n",
       "    </tr>\n",
       "    <tr>\n",
       "      <th>Month</th>\n",
       "      <th></th>\n",
       "      <th></th>\n",
       "      <th></th>\n",
       "    </tr>\n",
       "  </thead>\n",
       "  <tbody>\n",
       "    <tr>\n",
       "      <th rowspan=\"2\" valign=\"top\">1</th>\n",
       "      <th>temp</th>\n",
       "      <td>1.000000</td>\n",
       "      <td>0.689495</td>\n",
       "    </tr>\n",
       "    <tr>\n",
       "      <th>total_riders</th>\n",
       "      <td>0.689495</td>\n",
       "      <td>1.000000</td>\n",
       "    </tr>\n",
       "    <tr>\n",
       "      <th rowspan=\"2\" valign=\"top\">2</th>\n",
       "      <th>temp</th>\n",
       "      <td>1.000000</td>\n",
       "      <td>0.716206</td>\n",
       "    </tr>\n",
       "    <tr>\n",
       "      <th>total_riders</th>\n",
       "      <td>0.716206</td>\n",
       "      <td>1.000000</td>\n",
       "    </tr>\n",
       "    <tr>\n",
       "      <th rowspan=\"2\" valign=\"top\">3</th>\n",
       "      <th>temp</th>\n",
       "      <td>1.000000</td>\n",
       "      <td>0.735575</td>\n",
       "    </tr>\n",
       "    <tr>\n",
       "      <th>total_riders</th>\n",
       "      <td>0.735575</td>\n",
       "      <td>1.000000</td>\n",
       "    </tr>\n",
       "    <tr>\n",
       "      <th rowspan=\"2\" valign=\"top\">4</th>\n",
       "      <th>temp</th>\n",
       "      <td>1.000000</td>\n",
       "      <td>0.533387</td>\n",
       "    </tr>\n",
       "    <tr>\n",
       "      <th>total_riders</th>\n",
       "      <td>0.533387</td>\n",
       "      <td>1.000000</td>\n",
       "    </tr>\n",
       "    <tr>\n",
       "      <th rowspan=\"2\" valign=\"top\">5</th>\n",
       "      <th>temp</th>\n",
       "      <td>1.000000</td>\n",
       "      <td>0.065599</td>\n",
       "    </tr>\n",
       "    <tr>\n",
       "      <th>total_riders</th>\n",
       "      <td>0.065599</td>\n",
       "      <td>1.000000</td>\n",
       "    </tr>\n",
       "    <tr>\n",
       "      <th rowspan=\"2\" valign=\"top\">6</th>\n",
       "      <th>temp</th>\n",
       "      <td>1.000000</td>\n",
       "      <td>-0.330884</td>\n",
       "    </tr>\n",
       "    <tr>\n",
       "      <th>total_riders</th>\n",
       "      <td>-0.330884</td>\n",
       "      <td>1.000000</td>\n",
       "    </tr>\n",
       "    <tr>\n",
       "      <th rowspan=\"2\" valign=\"top\">7</th>\n",
       "      <th>temp</th>\n",
       "      <td>1.000000</td>\n",
       "      <td>-0.184704</td>\n",
       "    </tr>\n",
       "    <tr>\n",
       "      <th>total_riders</th>\n",
       "      <td>-0.184704</td>\n",
       "      <td>1.000000</td>\n",
       "    </tr>\n",
       "    <tr>\n",
       "      <th rowspan=\"2\" valign=\"top\">8</th>\n",
       "      <th>temp</th>\n",
       "      <td>1.000000</td>\n",
       "      <td>0.288264</td>\n",
       "    </tr>\n",
       "    <tr>\n",
       "      <th>total_riders</th>\n",
       "      <td>0.288264</td>\n",
       "      <td>1.000000</td>\n",
       "    </tr>\n",
       "    <tr>\n",
       "      <th rowspan=\"2\" valign=\"top\">9</th>\n",
       "      <th>temp</th>\n",
       "      <td>1.000000</td>\n",
       "      <td>-0.418753</td>\n",
       "    </tr>\n",
       "    <tr>\n",
       "      <th>total_riders</th>\n",
       "      <td>-0.418753</td>\n",
       "      <td>1.000000</td>\n",
       "    </tr>\n",
       "    <tr>\n",
       "      <th rowspan=\"2\" valign=\"top\">10</th>\n",
       "      <th>temp</th>\n",
       "      <td>1.000000</td>\n",
       "      <td>0.466666</td>\n",
       "    </tr>\n",
       "    <tr>\n",
       "      <th>total_riders</th>\n",
       "      <td>0.466666</td>\n",
       "      <td>1.000000</td>\n",
       "    </tr>\n",
       "    <tr>\n",
       "      <th rowspan=\"2\" valign=\"top\">11</th>\n",
       "      <th>temp</th>\n",
       "      <td>1.000000</td>\n",
       "      <td>0.511232</td>\n",
       "    </tr>\n",
       "    <tr>\n",
       "      <th>total_riders</th>\n",
       "      <td>0.511232</td>\n",
       "      <td>1.000000</td>\n",
       "    </tr>\n",
       "    <tr>\n",
       "      <th rowspan=\"2\" valign=\"top\">12</th>\n",
       "      <th>temp</th>\n",
       "      <td>1.000000</td>\n",
       "      <td>0.690062</td>\n",
       "    </tr>\n",
       "    <tr>\n",
       "      <th>total_riders</th>\n",
       "      <td>0.690062</td>\n",
       "      <td>1.000000</td>\n",
       "    </tr>\n",
       "  </tbody>\n",
       "</table>\n",
       "</div>"
      ],
      "text/plain": [
       "                        temp  total_riders\n",
       "Month                                     \n",
       "1     temp          1.000000      0.689495\n",
       "      total_riders  0.689495      1.000000\n",
       "2     temp          1.000000      0.716206\n",
       "      total_riders  0.716206      1.000000\n",
       "3     temp          1.000000      0.735575\n",
       "      total_riders  0.735575      1.000000\n",
       "4     temp          1.000000      0.533387\n",
       "      total_riders  0.533387      1.000000\n",
       "5     temp          1.000000      0.065599\n",
       "      total_riders  0.065599      1.000000\n",
       "6     temp          1.000000     -0.330884\n",
       "      total_riders -0.330884      1.000000\n",
       "7     temp          1.000000     -0.184704\n",
       "      total_riders -0.184704      1.000000\n",
       "8     temp          1.000000      0.288264\n",
       "      total_riders  0.288264      1.000000\n",
       "9     temp          1.000000     -0.418753\n",
       "      total_riders -0.418753      1.000000\n",
       "10    temp          1.000000      0.466666\n",
       "      total_riders  0.466666      1.000000\n",
       "11    temp          1.000000      0.511232\n",
       "      total_riders  0.511232      1.000000\n",
       "12    temp          1.000000      0.690062\n",
       "      total_riders  0.690062      1.000000"
      ]
     },
     "execution_count": 44,
     "metadata": {},
     "output_type": "execute_result"
    }
   ],
   "source": [
    "weather_data[['total_riders', 'temp', 'Month']].groupby('Month').corr()"
   ]
  },
  {
   "cell_type": "markdown",
   "metadata": {},
   "source": [
    "Investigate total riders by month versus average monthly temp."
   ]
  },
  {
   "cell_type": "code",
   "execution_count": 34,
   "metadata": {
    "collapsed": false
   },
   "outputs": [
    {
     "data": {
      "text/html": [
       "<div>\n",
       "<table border=\"1\" class=\"dataframe\">\n",
       "  <thead>\n",
       "    <tr style=\"text-align: right;\">\n",
       "      <th></th>\n",
       "      <th>total_riders</th>\n",
       "      <th>temp</th>\n",
       "    </tr>\n",
       "    <tr>\n",
       "      <th>Month</th>\n",
       "      <th></th>\n",
       "      <th></th>\n",
       "    </tr>\n",
       "  </thead>\n",
       "  <tbody>\n",
       "    <tr>\n",
       "      <th>1</th>\n",
       "      <td>96744</td>\n",
       "      <td>0.275181</td>\n",
       "    </tr>\n",
       "    <tr>\n",
       "      <th>2</th>\n",
       "      <td>103137</td>\n",
       "      <td>0.315337</td>\n",
       "    </tr>\n",
       "    <tr>\n",
       "      <th>3</th>\n",
       "      <td>164875</td>\n",
       "      <td>0.449411</td>\n",
       "    </tr>\n",
       "    <tr>\n",
       "      <th>4</th>\n",
       "      <td>174224</td>\n",
       "      <td>0.468809</td>\n",
       "    </tr>\n",
       "    <tr>\n",
       "      <th>5</th>\n",
       "      <td>195865</td>\n",
       "      <td>0.612366</td>\n",
       "    </tr>\n",
       "    <tr>\n",
       "      <th>6</th>\n",
       "      <td>202830</td>\n",
       "      <td>0.675111</td>\n",
       "    </tr>\n",
       "    <tr>\n",
       "      <th>7</th>\n",
       "      <td>203607</td>\n",
       "      <td>0.752366</td>\n",
       "    </tr>\n",
       "    <tr>\n",
       "      <th>8</th>\n",
       "      <td>214503</td>\n",
       "      <td>0.711801</td>\n",
       "    </tr>\n",
       "    <tr>\n",
       "      <th>9</th>\n",
       "      <td>218573</td>\n",
       "      <td>0.620083</td>\n",
       "    </tr>\n",
       "    <tr>\n",
       "      <th>10</th>\n",
       "      <td>198841</td>\n",
       "      <td>0.500049</td>\n",
       "    </tr>\n",
       "    <tr>\n",
       "      <th>11</th>\n",
       "      <td>152664</td>\n",
       "      <td>0.336101</td>\n",
       "    </tr>\n",
       "    <tr>\n",
       "      <th>12</th>\n",
       "      <td>123713</td>\n",
       "      <td>0.322880</td>\n",
       "    </tr>\n",
       "  </tbody>\n",
       "</table>\n",
       "</div>"
      ],
      "text/plain": [
       "       total_riders      temp\n",
       "Month                        \n",
       "1             96744  0.275181\n",
       "2            103137  0.315337\n",
       "3            164875  0.449411\n",
       "4            174224  0.468809\n",
       "5            195865  0.612366\n",
       "6            202830  0.675111\n",
       "7            203607  0.752366\n",
       "8            214503  0.711801\n",
       "9            218573  0.620083\n",
       "10           198841  0.500049\n",
       "11           152664  0.336101\n",
       "12           123713  0.322880"
      ]
     },
     "execution_count": 34,
     "metadata": {},
     "output_type": "execute_result"
    }
   ],
   "source": [
    "pd.concat([weather_data.groupby('Month')['total_riders'].sum(), weather_data.groupby('Month')['temp'].mean()], axis=1)"
   ]
  },
  {
   "cell_type": "markdown",
   "metadata": {},
   "source": [
    "Investigate total riders by season versus average seasonal temp."
   ]
  },
  {
   "cell_type": "code",
   "execution_count": 36,
   "metadata": {
    "collapsed": false
   },
   "outputs": [
    {
     "data": {
      "text/html": [
       "<div>\n",
       "<table border=\"1\" class=\"dataframe\">\n",
       "  <thead>\n",
       "    <tr style=\"text-align: right;\">\n",
       "      <th></th>\n",
       "      <th>total_riders</th>\n",
       "      <th>temp</th>\n",
       "    </tr>\n",
       "    <tr>\n",
       "      <th>season_desc</th>\n",
       "      <th></th>\n",
       "      <th></th>\n",
       "    </tr>\n",
       "  </thead>\n",
       "  <tbody>\n",
       "    <tr>\n",
       "      <th>Fall</th>\n",
       "      <td>515476</td>\n",
       "      <td>0.419368</td>\n",
       "    </tr>\n",
       "    <tr>\n",
       "      <th>Spring</th>\n",
       "      <td>571273</td>\n",
       "      <td>0.554557</td>\n",
       "    </tr>\n",
       "    <tr>\n",
       "      <th>Summer</th>\n",
       "      <td>641479</td>\n",
       "      <td>0.711445</td>\n",
       "    </tr>\n",
       "    <tr>\n",
       "      <th>Winter</th>\n",
       "      <td>321348</td>\n",
       "      <td>0.321700</td>\n",
       "    </tr>\n",
       "  </tbody>\n",
       "</table>\n",
       "</div>"
      ],
      "text/plain": [
       "             total_riders      temp\n",
       "season_desc                        \n",
       "Fall               515476  0.419368\n",
       "Spring             571273  0.554557\n",
       "Summer             641479  0.711445\n",
       "Winter             321348  0.321700"
      ]
     },
     "execution_count": 36,
     "metadata": {},
     "output_type": "execute_result"
    }
   ],
   "source": [
    "pd.concat([weather_data.groupby('season_desc')['total_riders'].sum(), weather_data.groupby('season_desc')['temp'].mean()], axis=1)"
   ]
  },
  {
   "cell_type": "markdown",
   "metadata": {},
   "source": [
    "##Question 4\n",
    "There are various types of users in the usage data sets. What sorts of things can you say about how they use the bikes differently?"
   ]
  },
  {
   "cell_type": "markdown",
   "metadata": {},
   "source": [
    "Investigate correlations between casual and reg riders on work days and holidays."
   ]
  },
  {
   "cell_type": "code",
   "execution_count": 39,
   "metadata": {
    "collapsed": false
   },
   "outputs": [
    {
     "data": {
      "text/html": [
       "<div>\n",
       "<table border=\"1\" class=\"dataframe\">\n",
       "  <thead>\n",
       "    <tr style=\"text-align: right;\">\n",
       "      <th></th>\n",
       "      <th>no_casual_riders</th>\n",
       "      <th>no_reg_riders</th>\n",
       "      <th>is_work_day</th>\n",
       "      <th>is_holiday</th>\n",
       "    </tr>\n",
       "  </thead>\n",
       "  <tbody>\n",
       "    <tr>\n",
       "      <th>no_casual_riders</th>\n",
       "      <td>1.000000</td>\n",
       "      <td>0.274984</td>\n",
       "      <td>-0.539919</td>\n",
       "      <td>0.029720</td>\n",
       "    </tr>\n",
       "    <tr>\n",
       "      <th>no_reg_riders</th>\n",
       "      <td>0.274984</td>\n",
       "      <td>1.000000</td>\n",
       "      <td>0.437003</td>\n",
       "      <td>-0.164190</td>\n",
       "    </tr>\n",
       "    <tr>\n",
       "      <th>is_work_day</th>\n",
       "      <td>-0.539919</td>\n",
       "      <td>0.437003</td>\n",
       "      <td>1.000000</td>\n",
       "      <td>-0.258418</td>\n",
       "    </tr>\n",
       "    <tr>\n",
       "      <th>is_holiday</th>\n",
       "      <td>0.029720</td>\n",
       "      <td>-0.164190</td>\n",
       "      <td>-0.258418</td>\n",
       "      <td>1.000000</td>\n",
       "    </tr>\n",
       "  </tbody>\n",
       "</table>\n",
       "</div>"
      ],
      "text/plain": [
       "                  no_casual_riders  no_reg_riders  is_work_day  is_holiday\n",
       "no_casual_riders          1.000000       0.274984    -0.539919    0.029720\n",
       "no_reg_riders             0.274984       1.000000     0.437003   -0.164190\n",
       "is_work_day              -0.539919       0.437003     1.000000   -0.258418\n",
       "is_holiday                0.029720      -0.164190    -0.258418    1.000000"
      ]
     },
     "execution_count": 39,
     "metadata": {},
     "output_type": "execute_result"
    }
   ],
   "source": [
    "weather_data[['no_casual_riders', 'no_reg_riders', 'is_work_day', 'is_holiday']].corr()"
   ]
  },
  {
   "cell_type": "markdown",
   "metadata": {},
   "source": [
    "Investigate correlations between casual and reg riders and windspeed."
   ]
  },
  {
   "cell_type": "code",
   "execution_count": 41,
   "metadata": {
    "collapsed": false
   },
   "outputs": [
    {
     "data": {
      "text/html": [
       "<div>\n",
       "<table border=\"1\" class=\"dataframe\">\n",
       "  <thead>\n",
       "    <tr style=\"text-align: right;\">\n",
       "      <th></th>\n",
       "      <th>no_casual_riders</th>\n",
       "      <th>no_reg_riders</th>\n",
       "      <th>windspeed</th>\n",
       "    </tr>\n",
       "  </thead>\n",
       "  <tbody>\n",
       "    <tr>\n",
       "      <th>no_casual_riders</th>\n",
       "      <td>1.000000</td>\n",
       "      <td>0.274984</td>\n",
       "      <td>-0.158371</td>\n",
       "    </tr>\n",
       "    <tr>\n",
       "      <th>no_reg_riders</th>\n",
       "      <td>0.274984</td>\n",
       "      <td>1.000000</td>\n",
       "      <td>-0.265985</td>\n",
       "    </tr>\n",
       "    <tr>\n",
       "      <th>windspeed</th>\n",
       "      <td>-0.158371</td>\n",
       "      <td>-0.265985</td>\n",
       "      <td>1.000000</td>\n",
       "    </tr>\n",
       "  </tbody>\n",
       "</table>\n",
       "</div>"
      ],
      "text/plain": [
       "                  no_casual_riders  no_reg_riders  windspeed\n",
       "no_casual_riders          1.000000       0.274984  -0.158371\n",
       "no_reg_riders             0.274984       1.000000  -0.265985\n",
       "windspeed                -0.158371      -0.265985   1.000000"
      ]
     },
     "execution_count": 41,
     "metadata": {},
     "output_type": "execute_result"
    }
   ],
   "source": [
    "weather_data[['no_casual_riders', 'no_reg_riders', 'windspeed']].corr()"
   ]
  },
  {
   "cell_type": "code",
   "execution_count": null,
   "metadata": {
    "collapsed": true
   },
   "outputs": [],
   "source": []
  }
 ],
 "metadata": {
  "kernelspec": {
   "display_name": "Python 2",
   "language": "python",
   "name": "python2"
  },
  "language_info": {
   "codemirror_mode": {
    "name": "ipython",
    "version": 2
   },
   "file_extension": ".py",
   "mimetype": "text/x-python",
   "name": "python",
   "nbconvert_exporter": "python",
   "pygments_lexer": "ipython2",
   "version": "2.7.10"
  }
 },
 "nbformat": 4,
 "nbformat_minor": 0
}
